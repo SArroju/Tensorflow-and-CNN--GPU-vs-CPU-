{
 "cells": [
  {
   "cell_type": "markdown",
   "metadata": {},
   "source": [
    "# Tensorflow and CNN \n",
    "#Google colab\n"
   ]
  },
  {
   "cell_type": "code",
   "execution_count": 0,
   "metadata": {
    "colab": {},
    "colab_type": "code",
    "id": "PJGjuxz_K8D8"
   },
   "outputs": [],
   "source": [
    "from tensorflow.python.client import device_lib"
   ]
  },
  {
   "cell_type": "code",
   "execution_count": 0,
   "metadata": {
    "colab": {
     "base_uri": "https://localhost:8080/",
     "height": 91
    },
    "colab_type": "code",
    "id": "bvelia6ALd8Z",
    "outputId": "381ecf4f-21a7-4142-af3d-af2f62b7c972"
   },
   "outputs": [
    {
     "name": "stdout",
     "output_type": "stream",
     "text": [
      "Show System RAM Memory:\n",
      "\n",
      "\n",
      "MemTotal:       13335276 kB\n"
     ]
    }
   ],
   "source": [
    "print(\"Show System RAM Memory:\\n\\n\") \n",
    "!cat /proc/meminfo | egrep \"MemTotal*\" "
   ]
  },
  {
   "cell_type": "code",
   "execution_count": 0,
   "metadata": {
    "colab": {
     "base_uri": "https://localhost:8080/",
     "height": 667
    },
    "colab_type": "code",
    "id": "FtSkhrhZLn0B",
    "outputId": "12f57dbf-ae22-4470-ad4b-fb2cf38f1e87"
   },
   "outputs": [
    {
     "name": "stdout",
     "output_type": "stream",
     "text": [
      "\n",
      "\n",
      "Show Devices:\n",
      "\n",
      "[name: \"/device:CPU:0\"\n",
      "device_type: \"CPU\"\n",
      "memory_limit: 268435456\n",
      "locality {\n",
      "}\n",
      "incarnation: 15605414012023638704\n",
      ", name: \"/device:XLA_CPU:0\"\n",
      "device_type: \"XLA_CPU\"\n",
      "memory_limit: 17179869184\n",
      "locality {\n",
      "}\n",
      "incarnation: 4192316904223629090\n",
      "physical_device_desc: \"device: XLA_CPU device\"\n",
      ", name: \"/device:XLA_GPU:0\"\n",
      "device_type: \"XLA_GPU\"\n",
      "memory_limit: 17179869184\n",
      "locality {\n",
      "}\n",
      "incarnation: 6780210740157400529\n",
      "physical_device_desc: \"device: XLA_GPU device\"\n",
      ", name: \"/device:GPU:0\"\n",
      "device_type: \"GPU\"\n",
      "memory_limit: 14800692839\n",
      "locality {\n",
      "  bus_id: 1\n",
      "  links {\n",
      "  }\n",
      "}\n",
      "incarnation: 18214365775378353489\n",
      "physical_device_desc: \"device: 0, name: Tesla T4, pci bus id: 0000:00:04.0, compute capability: 7.5\"\n",
      "]\n"
     ]
    }
   ],
   "source": [
    "print(\"\\n\\nShow Devices:\\n\\n\"+str(device_lib.list_local_devices())) "
   ]
  },
  {
   "cell_type": "code",
   "execution_count": 0,
   "metadata": {
    "colab": {
     "base_uri": "https://localhost:8080/",
     "height": 130
    },
    "colab_type": "code",
    "id": "V7TN7KxOLs7I",
    "outputId": "2002f5f3-41db-4a08-fbab-65db3c3fbbe9"
   },
   "outputs": [
    {
     "name": "stdout",
     "output_type": "stream",
     "text": [
      "Go to this URL in a browser: https://accounts.google.com/o/oauth2/auth?client_id=947318989803-6bn6qk8qdgf4n4g3pfee6491hc0brc4i.apps.googleusercontent.com&redirect_uri=urn%3Aietf%3Awg%3Aoauth%3A2.0%3Aoob&scope=email%20https%3A%2F%2Fwww.googleapis.com%2Fauth%2Fdocs.test%20https%3A%2F%2Fwww.googleapis.com%2Fauth%2Fdrive%20https%3A%2F%2Fwww.googleapis.com%2Fauth%2Fdrive.photos.readonly%20https%3A%2F%2Fwww.googleapis.com%2Fauth%2Fpeopleapi.readonly&response_type=code\n",
      "\n",
      "Enter your authorization code:\n",
      "··········\n",
      "Mounted at /content/gdrive\n"
     ]
    }
   ],
   "source": [
    "from google.colab import drive \n",
    "drive.mount('/content/gdrive') "
   ]
  },
  {
   "cell_type": "code",
   "execution_count": 0,
   "metadata": {
    "colab": {},
    "colab_type": "code",
    "id": "SS6gO2FNM_dD"
   },
   "outputs": [],
   "source": [
    "from keras.preprocessing.image import ImageDataGenerator"
   ]
  },
  {
   "cell_type": "code",
   "execution_count": 0,
   "metadata": {
    "colab": {},
    "colab_type": "code",
    "id": "YiWcrfpUNBl5"
   },
   "outputs": [],
   "source": [
    "train_datagen = ImageDataGenerator(\n",
    "        rescale=1./255,\n",
    "        shear_range=0.2,\n",
    "        zoom_range=0.2,\n",
    "        horizontal_flip=True)"
   ]
  },
  {
   "cell_type": "code",
   "execution_count": 0,
   "metadata": {
    "colab": {
     "base_uri": "https://localhost:8080/",
     "height": 36
    },
    "colab_type": "code",
    "id": "p7k1yj6gNK7n",
    "outputId": "6f77088b-668f-41d8-8c4e-03f3f81d6b66"
   },
   "outputs": [
    {
     "name": "stdout",
     "output_type": "stream",
     "text": [
      "Found 0 images belonging to 0 classes.\n"
     ]
    }
   ],
   "source": [
    "training_set = train_datagen.flow_from_directory('/content/gdrive/My Drive/Colab Notebooks/train/', target_size = (50, 50),batch_size = 32, class_mode = 'binary') "
   ]
  },
  {
   "cell_type": "markdown",
   "metadata": {},
   "source": [
    " A Keras code is provided for running hand written recognition on both GPU and CPU. Run the code on colab and your own machine and compare the results."
   ]
  },
  {
   "cell_type": "markdown",
   "metadata": {},
   "source": [
    "For colab"
   ]
  },
  {
   "cell_type": "code",
   "execution_count": 0,
   "metadata": {
    "colab": {
     "base_uri": "https://localhost:8080/",
     "height": 1151
    },
    "colab_type": "code",
    "id": "QsM9-AZ9HSQV",
    "outputId": "57a50bf1-2209-48f4-8da7-81f3275e5283"
   },
   "outputs": [
    {
     "name": "stdout",
     "output_type": "stream",
     "text": [
      "Using TensorFlow backend.\n",
      "Downloading data from https://s3.amazonaws.com/img-datasets/mnist.npz\n",
      "11493376/11490434 [==============================] - 1s 0us/step\n",
      "x_train shape: (60000, 28, 28, 1)\n",
      "60000 train samples\n",
      "10000 test samples\n",
      "WARNING:tensorflow:From /usr/local/lib/python3.6/dist-packages/tensorflow/python/framework/op_def_library.py:263: colocate_with (from tensorflow.python.framework.ops) is deprecated and will be removed in a future version.\n",
      "Instructions for updating:\n",
      "Colocations handled automatically by placer.\n",
      "WARNING:tensorflow:From /usr/local/lib/python3.6/dist-packages/keras/backend/tensorflow_backend.py:3445: calling dropout (from tensorflow.python.ops.nn_ops) with keep_prob is deprecated and will be removed in a future version.\n",
      "Instructions for updating:\n",
      "Please use `rate` instead of `keep_prob`. Rate should be set to `rate = 1 - keep_prob`.\n",
      "WARNING:tensorflow:From /usr/local/lib/python3.6/dist-packages/tensorflow/python/ops/math_ops.py:3066: to_int32 (from tensorflow.python.ops.math_ops) is deprecated and will be removed in a future version.\n",
      "Instructions for updating:\n",
      "Use tf.cast instead.\n",
      "Train on 60000 samples, validate on 10000 samples\n",
      "Epoch 1/12\n",
      "2019-05-18 18:49:13.463767: I tensorflow/core/platform/profile_utils/cpu_utils.cc:94] CPU Frequency: 2200000000 Hz\n",
      "2019-05-18 18:49:13.464066: I tensorflow/compiler/xla/service/service.cc:150] XLA service 0x1be5fa0 executing computations on platform Host. Devices:\n",
      "2019-05-18 18:49:13.464099: I tensorflow/compiler/xla/service/service.cc:158]   StreamExecutor device (0): <undefined>, <undefined>\n",
      "2019-05-18 18:49:13.624266: I tensorflow/stream_executor/cuda/cuda_gpu_executor.cc:998] successful NUMA node read from SysFS had negative value (-1), but there must be at least one NUMA node, so returning NUMA node zero\n",
      "2019-05-18 18:49:13.624927: I tensorflow/compiler/xla/service/service.cc:150] XLA service 0x1be5a20 executing computations on platform CUDA. Devices:\n",
      "2019-05-18 18:49:13.624967: I tensorflow/compiler/xla/service/service.cc:158]   StreamExecutor device (0): Tesla T4, Compute Capability 7.5\n",
      "2019-05-18 18:49:13.625405: I tensorflow/core/common_runtime/gpu/gpu_device.cc:1433] Found device 0 with properties: \n",
      "name: Tesla T4 major: 7 minor: 5 memoryClockRate(GHz): 1.59\n",
      "pciBusID: 0000:00:04.0\n",
      "totalMemory: 14.73GiB freeMemory: 14.39GiB\n",
      "2019-05-18 18:49:13.625467: I tensorflow/core/common_runtime/gpu/gpu_device.cc:1512] Adding visible gpu devices: 0\n",
      "2019-05-18 18:49:14.189094: I tensorflow/core/common_runtime/gpu/gpu_device.cc:984] Device interconnect StreamExecutor with strength 1 edge matrix:\n",
      "2019-05-18 18:49:14.189160: I tensorflow/core/common_runtime/gpu/gpu_device.cc:990]      0 \n",
      "2019-05-18 18:49:14.189174: I tensorflow/core/common_runtime/gpu/gpu_device.cc:1003] 0:   N \n",
      "2019-05-18 18:49:14.189494: W tensorflow/core/common_runtime/gpu/gpu_bfc_allocator.cc:42] Overriding allow_growth setting because the TF_FORCE_GPU_ALLOW_GROWTH environment variable is set. Original config value was 0.\n",
      "2019-05-18 18:49:14.189567: I tensorflow/core/common_runtime/gpu/gpu_device.cc:1115] Created TensorFlow device (/job:localhost/replica:0/task:0/device:GPU:0 with 13914 MB memory) -> physical GPU (device: 0, name: Tesla T4, pci bus id: 0000:00:04.0, compute capability: 7.5)\n",
      "2019-05-18 18:49:14.618724: I tensorflow/stream_executor/dso_loader.cc:152] successfully opened CUDA library libcublas.so.10.0 locally\n",
      "60000/60000 [==============================] - 9s 155us/step - loss: 0.2545 - acc: 0.9232 - val_loss: 0.0568 - val_acc: 0.9815\n",
      "Epoch 2/12\n",
      "60000/60000 [==============================] - 4s 74us/step - loss: 0.0875 - acc: 0.9740 - val_loss: 0.0439 - val_acc: 0.9851\n",
      "Epoch 3/12\n",
      "60000/60000 [==============================] - 4s 74us/step - loss: 0.0664 - acc: 0.9801 - val_loss: 0.0361 - val_acc: 0.9881\n",
      "Epoch 4/12\n",
      "60000/60000 [==============================] - 4s 74us/step - loss: 0.0541 - acc: 0.9836 - val_loss: 0.0321 - val_acc: 0.9899\n",
      "Epoch 5/12\n",
      "60000/60000 [==============================] - 4s 74us/step - loss: 0.0478 - acc: 0.9857 - val_loss: 0.0317 - val_acc: 0.9891\n",
      "Epoch 6/12\n",
      "60000/60000 [==============================] - 4s 74us/step - loss: 0.0410 - acc: 0.9875 - val_loss: 0.0295 - val_acc: 0.9905\n",
      "Epoch 7/12\n",
      "60000/60000 [==============================] - 4s 73us/step - loss: 0.0386 - acc: 0.9878 - val_loss: 0.0267 - val_acc: 0.9908\n",
      "Epoch 8/12\n",
      "60000/60000 [==============================] - 4s 74us/step - loss: 0.0345 - acc: 0.9895 - val_loss: 0.0265 - val_acc: 0.9912\n",
      "Epoch 9/12\n",
      "60000/60000 [==============================] - 4s 73us/step - loss: 0.0316 - acc: 0.9897 - val_loss: 0.0303 - val_acc: 0.9905\n",
      "Epoch 10/12\n",
      "60000/60000 [==============================] - 4s 73us/step - loss: 0.0305 - acc: 0.9903 - val_loss: 0.0271 - val_acc: 0.9916\n",
      "Epoch 11/12\n",
      "60000/60000 [==============================] - 4s 74us/step - loss: 0.0277 - acc: 0.9913 - val_loss: 0.0298 - val_acc: 0.9902\n",
      "Epoch 12/12\n",
      "60000/60000 [==============================] - 4s 73us/step - loss: 0.0270 - acc: 0.9919 - val_loss: 0.0296 - val_acc: 0.9922\n",
      "Test loss: 0.02960022986717663\n",
      "Test accuracy: 0.9922\n",
      "63.70101237297058\n"
     ]
    }
   ],
   "source": [
    "import time \n",
    "start = time.time() \n",
    "!python3 \"/content/gdrive/My Drive/mnist_cnn.py\" \n",
    "end = time.time() \n",
    "print(end - start)"
   ]
  },
  {
   "cell_type": "markdown",
   "metadata": {},
   "source": [
    "For CPU"
   ]
  },
  {
   "cell_type": "code",
   "execution_count": 34,
   "metadata": {},
   "outputs": [
    {
     "name": "stderr",
     "output_type": "stream",
     "text": [
      "Using TensorFlow backend.\n"
     ]
    },
    {
     "name": "stdout",
     "output_type": "stream",
     "text": [
      "x_train shape: (60000, 28, 28, 1)\n",
      "60000 train samples\n",
      "10000 test samples\n",
      "WARNING:tensorflow:From C:\\Users\\arroj\\Anaconda3\\lib\\site-packages\\tensorflow\\python\\framework\\op_def_library.py:263: colocate_with (from tensorflow.python.framework.ops) is deprecated and will be removed in a future version.\n",
      "Instructions for updating:\n",
      "Colocations handled automatically by placer.\n",
      "WARNING:tensorflow:From C:\\Users\\arroj\\Anaconda3\\lib\\site-packages\\keras\\backend\\tensorflow_backend.py:3445: calling dropout (from tensorflow.python.ops.nn_ops) with keep_prob is deprecated and will be removed in a future version.\n",
      "Instructions for updating:\n",
      "Please use `rate` instead of `keep_prob`. Rate should be set to `rate = 1 - keep_prob`.\n",
      "WARNING:tensorflow:From C:\\Users\\arroj\\Anaconda3\\lib\\site-packages\\tensorflow\\python\\ops\\math_ops.py:3066: to_int32 (from tensorflow.python.ops.math_ops) is deprecated and will be removed in a future version.\n",
      "Instructions for updating:\n",
      "Use tf.cast instead.\n",
      "Train on 60000 samples, validate on 10000 samples\n",
      "Epoch 1/12\n",
      "60000/60000 [==============================] - 183s 3ms/step - loss: 0.2843 - acc: 0.9124 - val_loss: 0.0608 - val_acc: 0.9805\n",
      "Epoch 2/12\n",
      "60000/60000 [==============================] - 177s 3ms/step - loss: 0.0944 - acc: 0.9715 - val_loss: 0.0422 - val_acc: 0.9862\n",
      "Epoch 3/12\n",
      "60000/60000 [==============================] - 177s 3ms/step - loss: 0.0707 - acc: 0.9788 - val_loss: 0.0378 - val_acc: 0.9864\n",
      "Epoch 4/12\n",
      "60000/60000 [==============================] - 177s 3ms/step - loss: 0.0576 - acc: 0.9824 - val_loss: 0.0352 - val_acc: 0.9874\n",
      "Epoch 5/12\n",
      "60000/60000 [==============================] - 177s 3ms/step - loss: 0.0513 - acc: 0.9846 - val_loss: 0.0295 - val_acc: 0.9894\n",
      "Epoch 6/12\n",
      "60000/60000 [==============================] - 175s 3ms/step - loss: 0.0452 - acc: 0.9861 - val_loss: 0.0296 - val_acc: 0.9898\n",
      "Epoch 7/12\n",
      "60000/60000 [==============================] - 175s 3ms/step - loss: 0.0384 - acc: 0.9877 - val_loss: 0.0353 - val_acc: 0.9883\n",
      "Epoch 8/12\n",
      "60000/60000 [==============================] - 177s 3ms/step - loss: 0.0378 - acc: 0.9884 - val_loss: 0.0261 - val_acc: 0.9915\n",
      "Epoch 9/12\n",
      "60000/60000 [==============================] - 177s 3ms/step - loss: 0.0343 - acc: 0.9898 - val_loss: 0.0278 - val_acc: 0.9904\n",
      "Epoch 10/12\n",
      "60000/60000 [==============================] - 177s 3ms/step - loss: 0.0310 - acc: 0.9904 - val_loss: 0.0368 - val_acc: 0.9879\n",
      "Epoch 11/12\n",
      "60000/60000 [==============================] - 175s 3ms/step - loss: 0.0313 - acc: 0.9903 - val_loss: 0.0250 - val_acc: 0.9919\n",
      "Epoch 12/12\n",
      "60000/60000 [==============================] - 174s 3ms/step - loss: 0.0294 - acc: 0.9907 - val_loss: 0.0280 - val_acc: 0.9914\n",
      "Test loss: 0.02804798995442261\n",
      "Test accuracy: 0.9914\n",
      "2137.904192686081\n"
     ]
    }
   ],
   "source": [
    "import time \n",
    "start = time.time() \n",
    "%run C:\\Users\\arroj\\Downloads/mnist_cnn \n",
    "end = time.time() \n",
    "print(end - start) "
   ]
  },
  {
   "cell_type": "markdown",
   "metadata": {},
   "source": [
    "Colob speed is about 63 seconds but the cpu speed is around 2137 seconds"
   ]
  },
  {
   "cell_type": "markdown",
   "metadata": {
    "colab_type": "text",
    "id": "idMjm8GJXwjm"
   },
   "source": [
    "Step2. Implement handwritten recognition in Tensorflow using CNN "
   ]
  },
  {
   "cell_type": "code",
   "execution_count": 0,
   "metadata": {
    "colab": {},
    "colab_type": "code",
    "id": "vjVyev2zXzyP"
   },
   "outputs": [],
   "source": [
    "import tensorflow as tf \n",
    "from tensorflow.examples.tutorials.mnist import input_data \n"
   ]
  },
  {
   "cell_type": "code",
   "execution_count": 0,
   "metadata": {
    "colab": {
     "base_uri": "https://localhost:8080/",
     "height": 91
    },
    "colab_type": "code",
    "id": "RLnO0IdyZIkz",
    "outputId": "7e1a63bf-98e8-4571-d339-c09174ff7ab3"
   },
   "outputs": [
    {
     "name": "stdout",
     "output_type": "stream",
     "text": [
      "Extracting /tmp/data/train-images-idx3-ubyte.gz\n",
      "Extracting /tmp/data/train-labels-idx1-ubyte.gz\n",
      "Extracting /tmp/data/t10k-images-idx3-ubyte.gz\n",
      "Extracting /tmp/data/t10k-labels-idx1-ubyte.gz\n"
     ]
    }
   ],
   "source": [
    "mnist = input_data.read_data_sets(\"/tmp/data/\", one_hot = True) \n"
   ]
  },
  {
   "cell_type": "code",
   "execution_count": 0,
   "metadata": {
    "colab": {},
    "colab_type": "code",
    "id": "FB2vfIYiZMNZ"
   },
   "outputs": [],
   "source": [
    "batch_size = 128 \n",
    "import matplotlib.pyplot as plt \n",
    "import random as ran \n",
    "import numpy as np \n"
   ]
  },
  {
   "cell_type": "code",
   "execution_count": 0,
   "metadata": {
    "colab": {},
    "colab_type": "code",
    "id": "1rW4q6ONZQnj"
   },
   "outputs": [],
   "source": [
    "# Functions that can define the size of train and test sets \n",
    "train_X = mnist.train.images.reshape(-1, 28, 28, 1) \n",
    "test_X = mnist.test.images.reshape(-1,28,28,1)"
   ]
  },
  {
   "cell_type": "code",
   "execution_count": 0,
   "metadata": {
    "colab": {},
    "colab_type": "code",
    "id": "I4LxX4odZTSX"
   },
   "outputs": [],
   "source": [
    "train_y = mnist.train.labels \n",
    "test_y = mnist.test.labels"
   ]
  },
  {
   "cell_type": "code",
   "execution_count": 0,
   "metadata": {
    "colab": {},
    "colab_type": "code",
    "id": "0Wh7hS6SZYia"
   },
   "outputs": [],
   "source": [
    "x = tf.placeholder(\"float\", [None, 28,28,1]) \n",
    "y = tf.placeholder(\"float\", [None, 10])"
   ]
  },
  {
   "cell_type": "code",
   "execution_count": 0,
   "metadata": {
    "colab": {},
    "colab_type": "code",
    "id": "TaCMqu8nZdZ0"
   },
   "outputs": [],
   "source": [
    "def conv2d(x, W, b, strides=1):\n",
    " # Conv2D wrapper, with bias and relu activation\n",
    " x = tf.nn.conv2d(x, W, strides=[1, strides, strides, 1], padding='SAME')\n",
    " x = tf.nn.bias_add(x, b)\n",
    " return tf.nn.relu(x)\n",
    "def maxpool2d(x, k=2):\n",
    " return tf.nn.max_pool(x, ksize=[1, k, k, 1], strides=[1, k, k,\n",
    "1],padding='SAME')"
   ]
  },
  {
   "cell_type": "code",
   "execution_count": 0,
   "metadata": {
    "colab": {
     "base_uri": "https://localhost:8080/",
     "height": 93
    },
    "colab_type": "code",
    "id": "2WIP3eZjZl7p",
    "outputId": "6b1afc52-dcc3-447d-f8f1-52beb5aa8b63"
   },
   "outputs": [
    {
     "name": "stdout",
     "output_type": "stream",
     "text": [
      "WARNING:tensorflow:From /usr/local/lib/python3.6/dist-packages/tensorflow/python/framework/op_def_library.py:263: colocate_with (from tensorflow.python.framework.ops) is deprecated and will be removed in a future version.\n",
      "Instructions for updating:\n",
      "Colocations handled automatically by placer.\n"
     ]
    }
   ],
   "source": [
    "weights = {\n",
    " 'wc1': tf.get_variable('W0', shape=(3,3,1,32),\n",
    "initializer=tf.contrib.layers.xavier_initializer()),\n",
    " 'wc2': tf.get_variable('W1', shape=(3,3,32,64),\n",
    "initializer=tf.contrib.layers.xavier_initializer()),\n",
    " 'wc3': tf.get_variable('W2', shape=(3,3,64,128),\n",
    "initializer=tf.contrib.layers.xavier_initializer()),\n",
    " 'wd1': tf.get_variable('W3', shape=(4*4*128,128),\n",
    "initializer=tf.contrib.layers.xavier_initializer()),\n",
    " 'out': tf.get_variable('W6', shape=(128,10),\n",
    "initializer=tf.contrib.layers.xavier_initializer()),\n",
    "}\n",
    "biases = {\n",
    " 'bc1': tf.get_variable('B0', shape=(32),\n",
    "initializer=tf.contrib.layers.xavier_initializer()),\n",
    " 'bc2': tf.get_variable('B1', shape=(64),\n",
    "initializer=tf.contrib.layers.xavier_initializer()),\n",
    " 'bc3': tf.get_variable('B2', shape=(128),\n",
    "initializer=tf.contrib.layers.xavier_initializer()),\n",
    " 'bd1': tf.get_variable('B3', shape=(128),\n",
    "initializer=tf.contrib.layers.xavier_initializer()),\n",
    " 'out': tf.get_variable('B4', shape=(10),\n",
    "initializer=tf.contrib.layers.xavier_initializer()),\n",
    "}\n"
   ]
  },
  {
   "cell_type": "code",
   "execution_count": 0,
   "metadata": {
    "colab": {},
    "colab_type": "code",
    "id": "5QR8SYFpeBr9"
   },
   "outputs": [],
   "source": [
    "def conv_net(x, weights, biases):\n",
    " # here we call the conv2d function we had defined above and pass the input image x, weights wc1 and bias bc1.\n",
    "  conv1 = conv2d(x, weights['wc1'], biases['bc1'])\n",
    " # Max Pooling (down-sampling), this chooses the max value from a 2*2 matrix window and outputs a 14*14 matrix.\n",
    "  conv1 = maxpool2d(conv1, k=2)\n",
    " # Convolution Layer\n",
    " # here we call the conv2d function we had defined above and pass the input image x, weights wc2 and bias bc2.\n",
    "  conv2 = conv2d(conv1, weights['wc2'], biases['bc2'])\n",
    " # Max Pooling (down-sampling), this chooses the max value from a 2*2 matrix window and outputs a 7*7 matrix.\n",
    "  conv2 = maxpool2d(conv2, k=2)\n",
    "  conv3 = conv2d(conv2, weights['wc3'], biases['bc3'])\n",
    " # Max Pooling (down-sampling), this chooses the max value from a 2*2 matrix window and outputs a 4*4.\n",
    "  conv3 = maxpool2d(conv3, k=2)\n",
    "  \n",
    "  # Fully connected layer\n",
    " # Reshape conv2 output to fit fully connected layer input\n",
    "  fc1 = tf.reshape(conv3, [-1, weights['wd1'].get_shape().as_list()[0]])\n",
    "  fc1 = tf.add(tf.matmul(fc1, weights['wd1']), biases['bd1'])\n",
    "  fc1 = tf.nn.relu(fc1)\n",
    " # Output, class prediction\n",
    " # finally we multiply the fully connected layer with the weights and add a bias term.\n",
    "  out = tf.add(tf.matmul(fc1, weights['out']), biases['out'])\n",
    "  return out"
   ]
  },
  {
   "cell_type": "code",
   "execution_count": 0,
   "metadata": {
    "colab": {
     "base_uri": "https://localhost:8080/",
     "height": 186
    },
    "colab_type": "code",
    "id": "CD5sfvdNaVru",
    "outputId": "8edb4583-357a-4b89-f341-5460597f967e"
   },
   "outputs": [
    {
     "name": "stdout",
     "output_type": "stream",
     "text": [
      "WARNING:tensorflow:From <ipython-input-65-5f24e3761103>:3: softmax_cross_entropy_with_logits (from tensorflow.python.ops.nn_ops) is deprecated and will be removed in a future version.\n",
      "Instructions for updating:\n",
      "\n",
      "Future major versions of TensorFlow will allow gradients to flow\n",
      "into the labels input on backprop by default.\n",
      "\n",
      "See `tf.nn.softmax_cross_entropy_with_logits_v2`.\n",
      "\n"
     ]
    }
   ],
   "source": [
    "learning_rate = 0.001\n",
    "pred = conv_net(x, weights, biases)\n",
    "cost = tf.reduce_mean(tf.nn.softmax_cross_entropy_with_logits(logits=pred, labels=y))\n",
    "optimizer = tf.train.AdamOptimizer(learning_rate=learning_rate).minimize(cost)\n",
    "#Here you check whether the index of the maximum value of the predicted image is equal to the actual labelled image. and both will be a column vector.\n",
    "correct_prediction = tf.equal(tf.argmax(pred, 1), tf.argmax(y, 1))\n",
    "#calculate accuracy across all the given images and average them out.\n",
    "accuracy = tf.reduce_mean(tf.cast(correct_prediction, tf.float32))"
   ]
  },
  {
   "cell_type": "code",
   "execution_count": 0,
   "metadata": {
    "colab": {
     "base_uri": "https://localhost:8080/",
     "height": 5587
    },
    "colab_type": "code",
    "id": "Ji2_RfdgeWuD",
    "outputId": "ce08bf95-46c8-4d1c-ef34-b1eecb466816"
   },
   "outputs": [
    {
     "name": "stdout",
     "output_type": "stream",
     "text": [
      "Iter 0, Loss= 0.022636, Training Accuracy= 0.99219\n",
      "Optimization Finished!\n",
      "Testing Accuracy: 0.97140\n",
      "Iter 1, Loss= 0.008297, Training Accuracy= 1.00000\n",
      "Optimization Finished!\n",
      "Testing Accuracy: 0.98290\n",
      "Iter 2, Loss= 0.003383, Training Accuracy= 1.00000\n",
      "Optimization Finished!\n",
      "Testing Accuracy: 0.98850\n",
      "Iter 3, Loss= 0.000985, Training Accuracy= 1.00000\n",
      "Optimization Finished!\n",
      "Testing Accuracy: 0.99030\n",
      "Iter 4, Loss= 0.000428, Training Accuracy= 1.00000\n",
      "Optimization Finished!\n",
      "Testing Accuracy: 0.98880\n",
      "Iter 5, Loss= 0.000569, Training Accuracy= 1.00000\n",
      "Optimization Finished!\n",
      "Testing Accuracy: 0.99080\n",
      "Iter 6, Loss= 0.000282, Training Accuracy= 1.00000\n",
      "Optimization Finished!\n",
      "Testing Accuracy: 0.99030\n",
      "Iter 7, Loss= 0.000500, Training Accuracy= 1.00000\n",
      "Optimization Finished!\n",
      "Testing Accuracy: 0.99020\n",
      "Iter 8, Loss= 0.000168, Training Accuracy= 1.00000\n",
      "Optimization Finished!\n",
      "Testing Accuracy: 0.99080\n",
      "Iter 9, Loss= 0.000358, Training Accuracy= 1.00000\n",
      "Optimization Finished!\n",
      "Testing Accuracy: 0.99000\n",
      "Iter 10, Loss= 0.001676, Training Accuracy= 1.00000\n",
      "Optimization Finished!\n",
      "Testing Accuracy: 0.99050\n",
      "Iter 11, Loss= 0.000288, Training Accuracy= 1.00000\n",
      "Optimization Finished!\n",
      "Testing Accuracy: 0.98660\n",
      "Iter 12, Loss= 0.000713, Training Accuracy= 1.00000\n",
      "Optimization Finished!\n",
      "Testing Accuracy: 0.99290\n",
      "Iter 13, Loss= 0.000019, Training Accuracy= 1.00000\n",
      "Optimization Finished!\n",
      "Testing Accuracy: 0.98990\n",
      "Iter 14, Loss= 0.000004, Training Accuracy= 1.00000\n",
      "Optimization Finished!\n",
      "Testing Accuracy: 0.99040\n",
      "Iter 15, Loss= 0.000487, Training Accuracy= 1.00000\n",
      "Optimization Finished!\n",
      "Testing Accuracy: 0.98540\n",
      "Iter 16, Loss= 0.000045, Training Accuracy= 1.00000\n",
      "Optimization Finished!\n",
      "Testing Accuracy: 0.98940\n",
      "Iter 17, Loss= 0.000102, Training Accuracy= 1.00000\n",
      "Optimization Finished!\n",
      "Testing Accuracy: 0.98840\n",
      "Iter 18, Loss= 0.000002, Training Accuracy= 1.00000\n",
      "Optimization Finished!\n",
      "Testing Accuracy: 0.98990\n",
      "Iter 19, Loss= 0.000337, Training Accuracy= 1.00000\n",
      "Optimization Finished!\n",
      "Testing Accuracy: 0.99170\n",
      "Iter 20, Loss= 0.000019, Training Accuracy= 1.00000\n",
      "Optimization Finished!\n",
      "Testing Accuracy: 0.98750\n",
      "Iter 21, Loss= 0.000008, Training Accuracy= 1.00000\n",
      "Optimization Finished!\n",
      "Testing Accuracy: 0.99300\n",
      "Iter 22, Loss= 0.000059, Training Accuracy= 1.00000\n",
      "Optimization Finished!\n",
      "Testing Accuracy: 0.99090\n",
      "Iter 23, Loss= 0.000001, Training Accuracy= 1.00000\n",
      "Optimization Finished!\n",
      "Testing Accuracy: 0.99190\n",
      "Iter 24, Loss= 0.000004, Training Accuracy= 1.00000\n",
      "Optimization Finished!\n",
      "Testing Accuracy: 0.99140\n",
      "Iter 25, Loss= 0.000298, Training Accuracy= 1.00000\n",
      "Optimization Finished!\n",
      "Testing Accuracy: 0.99210\n",
      "Iter 26, Loss= 0.000004, Training Accuracy= 1.00000\n",
      "Optimization Finished!\n",
      "Testing Accuracy: 0.99180\n",
      "Iter 27, Loss= 0.000004, Training Accuracy= 1.00000\n",
      "Optimization Finished!\n",
      "Testing Accuracy: 0.99150\n",
      "Iter 28, Loss= 0.000015, Training Accuracy= 1.00000\n",
      "Optimization Finished!\n",
      "Testing Accuracy: 0.99170\n",
      "Iter 29, Loss= 0.000238, Training Accuracy= 1.00000\n",
      "Optimization Finished!\n",
      "Testing Accuracy: 0.99020\n",
      "Iter 30, Loss= 0.000006, Training Accuracy= 1.00000\n",
      "Optimization Finished!\n",
      "Testing Accuracy: 0.99280\n",
      "Iter 31, Loss= 0.000011, Training Accuracy= 1.00000\n",
      "Optimization Finished!\n",
      "Testing Accuracy: 0.98980\n",
      "Iter 32, Loss= 0.000000, Training Accuracy= 1.00000\n",
      "Optimization Finished!\n",
      "Testing Accuracy: 0.99150\n",
      "Iter 33, Loss= 0.000014, Training Accuracy= 1.00000\n",
      "Optimization Finished!\n",
      "Testing Accuracy: 0.99230\n",
      "Iter 34, Loss= 0.000033, Training Accuracy= 1.00000\n",
      "Optimization Finished!\n",
      "Testing Accuracy: 0.99250\n",
      "Iter 35, Loss= 0.000454, Training Accuracy= 1.00000\n",
      "Optimization Finished!\n",
      "Testing Accuracy: 0.99250\n",
      "Iter 36, Loss= 0.000805, Training Accuracy= 1.00000\n",
      "Optimization Finished!\n",
      "Testing Accuracy: 0.99080\n",
      "Iter 37, Loss= 0.000001, Training Accuracy= 1.00000\n",
      "Optimization Finished!\n",
      "Testing Accuracy: 0.99250\n",
      "Iter 38, Loss= 0.000001, Training Accuracy= 1.00000\n",
      "Optimization Finished!\n",
      "Testing Accuracy: 0.99150\n",
      "Iter 39, Loss= 0.000001, Training Accuracy= 1.00000\n",
      "Optimization Finished!\n",
      "Testing Accuracy: 0.99040\n",
      "Iter 40, Loss= 0.000083, Training Accuracy= 1.00000\n",
      "Optimization Finished!\n",
      "Testing Accuracy: 0.99200\n",
      "Iter 41, Loss= 0.000000, Training Accuracy= 1.00000\n",
      "Optimization Finished!\n",
      "Testing Accuracy: 0.99330\n",
      "Iter 42, Loss= 0.000654, Training Accuracy= 1.00000\n",
      "Optimization Finished!\n",
      "Testing Accuracy: 0.99110\n",
      "Iter 43, Loss= 0.000000, Training Accuracy= 1.00000\n",
      "Optimization Finished!\n",
      "Testing Accuracy: 0.99300\n",
      "Iter 44, Loss= 0.000000, Training Accuracy= 1.00000\n",
      "Optimization Finished!\n",
      "Testing Accuracy: 0.99320\n",
      "Iter 45, Loss= 0.000000, Training Accuracy= 1.00000\n",
      "Optimization Finished!\n",
      "Testing Accuracy: 0.99340\n",
      "Iter 46, Loss= 0.000000, Training Accuracy= 1.00000\n",
      "Optimization Finished!\n",
      "Testing Accuracy: 0.99340\n",
      "Iter 47, Loss= 0.000000, Training Accuracy= 1.00000\n",
      "Optimization Finished!\n",
      "Testing Accuracy: 0.99350\n",
      "Iter 48, Loss= 0.000000, Training Accuracy= 1.00000\n",
      "Optimization Finished!\n",
      "Testing Accuracy: 0.99360\n",
      "Iter 49, Loss= 0.000000, Training Accuracy= 1.00000\n",
      "Optimization Finished!\n",
      "Testing Accuracy: 0.99370\n",
      "Iter 50, Loss= 0.000000, Training Accuracy= 1.00000\n",
      "Optimization Finished!\n",
      "Testing Accuracy: 0.99380\n",
      "Iter 51, Loss= 0.000000, Training Accuracy= 1.00000\n",
      "Optimization Finished!\n",
      "Testing Accuracy: 0.99390\n",
      "Iter 52, Loss= 0.000000, Training Accuracy= 1.00000\n",
      "Optimization Finished!\n",
      "Testing Accuracy: 0.99390\n",
      "Iter 53, Loss= 0.000000, Training Accuracy= 1.00000\n",
      "Optimization Finished!\n",
      "Testing Accuracy: 0.99400\n",
      "Iter 54, Loss= 0.000000, Training Accuracy= 1.00000\n",
      "Optimization Finished!\n",
      "Testing Accuracy: 0.99400\n",
      "Iter 55, Loss= 0.000000, Training Accuracy= 1.00000\n",
      "Optimization Finished!\n",
      "Testing Accuracy: 0.99410\n",
      "Iter 56, Loss= 0.000000, Training Accuracy= 1.00000\n",
      "Optimization Finished!\n",
      "Testing Accuracy: 0.99410\n",
      "Iter 57, Loss= 0.000000, Training Accuracy= 1.00000\n",
      "Optimization Finished!\n",
      "Testing Accuracy: 0.99410\n",
      "Iter 58, Loss= 0.000000, Training Accuracy= 1.00000\n",
      "Optimization Finished!\n",
      "Testing Accuracy: 0.99410\n",
      "Iter 59, Loss= 0.000000, Training Accuracy= 1.00000\n",
      "Optimization Finished!\n",
      "Testing Accuracy: 0.99420\n",
      "Iter 60, Loss= 0.000000, Training Accuracy= 1.00000\n",
      "Optimization Finished!\n",
      "Testing Accuracy: 0.99420\n",
      "Iter 61, Loss= 0.000000, Training Accuracy= 1.00000\n",
      "Optimization Finished!\n",
      "Testing Accuracy: 0.99430\n",
      "Iter 62, Loss= 0.000000, Training Accuracy= 1.00000\n",
      "Optimization Finished!\n",
      "Testing Accuracy: 0.99430\n",
      "Iter 63, Loss= 0.000000, Training Accuracy= 1.00000\n",
      "Optimization Finished!\n",
      "Testing Accuracy: 0.99430\n",
      "Iter 64, Loss= 0.000000, Training Accuracy= 1.00000\n",
      "Optimization Finished!\n",
      "Testing Accuracy: 0.99430\n",
      "Iter 65, Loss= 0.000000, Training Accuracy= 1.00000\n",
      "Optimization Finished!\n",
      "Testing Accuracy: 0.99430\n",
      "Iter 66, Loss= 0.000000, Training Accuracy= 1.00000\n",
      "Optimization Finished!\n",
      "Testing Accuracy: 0.99430\n",
      "Iter 67, Loss= 0.000000, Training Accuracy= 1.00000\n",
      "Optimization Finished!\n",
      "Testing Accuracy: 0.99430\n",
      "Iter 68, Loss= 0.000000, Training Accuracy= 1.00000\n",
      "Optimization Finished!\n",
      "Testing Accuracy: 0.99430\n",
      "Iter 69, Loss= 0.000000, Training Accuracy= 1.00000\n",
      "Optimization Finished!\n",
      "Testing Accuracy: 0.99430\n",
      "Iter 70, Loss= 0.000000, Training Accuracy= 1.00000\n",
      "Optimization Finished!\n",
      "Testing Accuracy: 0.99430\n",
      "Iter 71, Loss= 0.000000, Training Accuracy= 1.00000\n",
      "Optimization Finished!\n",
      "Testing Accuracy: 0.99430\n",
      "Iter 72, Loss= 0.000000, Training Accuracy= 1.00000\n",
      "Optimization Finished!\n",
      "Testing Accuracy: 0.99430\n",
      "Iter 73, Loss= 0.000000, Training Accuracy= 1.00000\n",
      "Optimization Finished!\n",
      "Testing Accuracy: 0.99420\n",
      "Iter 74, Loss= 0.000000, Training Accuracy= 1.00000\n",
      "Optimization Finished!\n",
      "Testing Accuracy: 0.99420\n",
      "Iter 75, Loss= 0.000000, Training Accuracy= 1.00000\n",
      "Optimization Finished!\n",
      "Testing Accuracy: 0.99420\n",
      "Iter 76, Loss= 0.000000, Training Accuracy= 1.00000\n",
      "Optimization Finished!\n",
      "Testing Accuracy: 0.99420\n",
      "Iter 77, Loss= 0.000000, Training Accuracy= 1.00000\n",
      "Optimization Finished!\n",
      "Testing Accuracy: 0.99420\n",
      "Iter 78, Loss= 0.000000, Training Accuracy= 1.00000\n",
      "Optimization Finished!\n",
      "Testing Accuracy: 0.99420\n",
      "Iter 79, Loss= 0.000000, Training Accuracy= 1.00000\n",
      "Optimization Finished!\n",
      "Testing Accuracy: 0.99410\n",
      "Iter 80, Loss= 0.000000, Training Accuracy= 1.00000\n",
      "Optimization Finished!\n",
      "Testing Accuracy: 0.99420\n",
      "Iter 81, Loss= 0.000000, Training Accuracy= 1.00000\n",
      "Optimization Finished!\n",
      "Testing Accuracy: 0.99420\n",
      "Iter 82, Loss= 0.000000, Training Accuracy= 1.00000\n",
      "Optimization Finished!\n",
      "Testing Accuracy: 0.99420\n",
      "Iter 83, Loss= 0.000000, Training Accuracy= 1.00000\n",
      "Optimization Finished!\n",
      "Testing Accuracy: 0.99420\n",
      "Iter 84, Loss= 0.000000, Training Accuracy= 1.00000\n",
      "Optimization Finished!\n",
      "Testing Accuracy: 0.99420\n",
      "Iter 85, Loss= 0.000000, Training Accuracy= 1.00000\n",
      "Optimization Finished!\n",
      "Testing Accuracy: 0.99420\n",
      "Iter 86, Loss= 0.000000, Training Accuracy= 1.00000\n",
      "Optimization Finished!\n",
      "Testing Accuracy: 0.99430\n",
      "Iter 87, Loss= 0.000000, Training Accuracy= 1.00000\n",
      "Optimization Finished!\n",
      "Testing Accuracy: 0.99430\n",
      "Iter 88, Loss= 0.000000, Training Accuracy= 1.00000\n",
      "Optimization Finished!\n",
      "Testing Accuracy: 0.99430\n",
      "Iter 89, Loss= 0.000000, Training Accuracy= 1.00000\n",
      "Optimization Finished!\n",
      "Testing Accuracy: 0.99430\n",
      "Iter 90, Loss= 0.000000, Training Accuracy= 1.00000\n",
      "Optimization Finished!\n",
      "Testing Accuracy: 0.99430\n",
      "Iter 91, Loss= 0.000000, Training Accuracy= 1.00000\n",
      "Optimization Finished!\n",
      "Testing Accuracy: 0.99420\n",
      "Iter 92, Loss= 0.000000, Training Accuracy= 1.00000\n",
      "Optimization Finished!\n",
      "Testing Accuracy: 0.99430\n",
      "Iter 93, Loss= 0.000000, Training Accuracy= 1.00000\n",
      "Optimization Finished!\n",
      "Testing Accuracy: 0.99430\n",
      "Iter 94, Loss= 0.000000, Training Accuracy= 1.00000\n",
      "Optimization Finished!\n",
      "Testing Accuracy: 0.99420\n",
      "Iter 95, Loss= 0.000000, Training Accuracy= 1.00000\n",
      "Optimization Finished!\n",
      "Testing Accuracy: 0.99430\n",
      "Iter 96, Loss= 0.000000, Training Accuracy= 1.00000\n",
      "Optimization Finished!\n",
      "Testing Accuracy: 0.99440\n",
      "Iter 97, Loss= 0.000000, Training Accuracy= 1.00000\n",
      "Optimization Finished!\n",
      "Testing Accuracy: 0.99440\n",
      "Iter 98, Loss= 0.000000, Training Accuracy= 1.00000\n",
      "Optimization Finished!\n",
      "Testing Accuracy: 0.99430\n",
      "Iter 99, Loss= 0.000000, Training Accuracy= 1.00000\n",
      "Optimization Finished!\n",
      "Testing Accuracy: 0.99430\n"
     ]
    }
   ],
   "source": [
    "init = tf.global_variables_initializer()\n",
    "epochs = 100\n",
    "with tf.Session() as sess:\n",
    "  sess.run(init)\n",
    "  train_loss = []\n",
    "  test_loss = []\n",
    "  train_accuracy = []\n",
    "  test_accuracy = []\n",
    "  summary_writer = tf.summary.FileWriter('./Output', sess.graph)\n",
    "  \n",
    "  for i in range(epochs):\n",
    "    for batch in range(len(train_X)//batch_size):\n",
    "      batch_x = train_X[batch*batch_size:min((batch+1)*batch_size,len(train_X))]\n",
    "      batch_y = train_y[batch*batch_size:min((batch+1)*batch_size,len(train_y))]\n",
    " # Run optimization op (backprop).\n",
    " # Calculate batch loss and accuracy\n",
    "      opt = sess.run(optimizer, feed_dict={x: batch_x, y: batch_y})\n",
    "      loss, acc = sess.run([cost, accuracy], feed_dict={x: batch_x, y: batch_y})\n",
    "    print(\"Iter \" + str(i) + \", Loss= \" + \\\n",
    "      \"{:.6f}\".format(loss) + \", Training Accuracy= \" + \\\n",
    "      \"{:.5f}\".format(acc))\n",
    "    print(\"Optimization Finished!\")\n",
    " # Calculate accuracy for all 10000 mnist test images\n",
    "    test_acc,valid_loss = sess.run([accuracy,cost], feed_dict={x: test_X,y : test_y})\n",
    "    train_loss.append(loss)\n",
    "    test_loss.append(valid_loss)\n",
    "    train_accuracy.append(acc)\n",
    "    test_accuracy.append(test_acc)\n",
    "    print(\"Testing Accuracy:\",\"{:.5f}\".format(test_acc))\n",
    "    summary_writer.close()"
   ]
  },
  {
   "cell_type": "code",
   "execution_count": 0,
   "metadata": {
    "colab": {
     "base_uri": "https://localhost:8080/",
     "height": 319
    },
    "colab_type": "code",
    "id": "f12_oHv_fo3B",
    "outputId": "2d32386c-1b9b-4d12-9722-06057ca11e5f"
   },
   "outputs": [
    {
     "data": {
      "image/png": "[encoded data removed]",
      "text/plain": [
       "<Figure size 432x288 with 1 Axes>"
      ]
     },
     "metadata": {
      "tags": []
     },
     "output_type": "display_data"
    },
    {
     "data": {
      "text/plain": [
       "<Figure size 432x288 with 0 Axes>"
      ]
     },
     "metadata": {
      "tags": []
     },
     "output_type": "display_data"
    }
   ],
   "source": [
    "import matplotlib.pyplot as plt\n",
    "plt.plot(range(len(train_loss)), train_loss, 'b', label='Training loss')\n",
    "plt.plot(range(len(train_loss)), test_loss, 'r', label='Test loss')\n",
    "plt.title('Training and Test loss')\n",
    "plt.xlabel('Epochs ',fontsize=16)\n",
    "plt.ylabel('Loss',fontsize=16)\n",
    "plt.legend()\n",
    "plt.figure()\n",
    "plt.show()"
   ]
  },
  {
   "cell_type": "code",
   "execution_count": 0,
   "metadata": {
    "colab": {
     "base_uri": "https://localhost:8080/",
     "height": 319
    },
    "colab_type": "code",
    "id": "48W6kr0Gf5tz",
    "outputId": "411d024a-a942-4bb5-d547-d16638eff8bd"
   },
   "outputs": [
    {
     "data": {
      "image/png": "[encoded data removed]",
      "text/plain": [
       "<Figure size 432x288 with 1 Axes>"
      ]
     },
     "metadata": {
      "tags": []
     },
     "output_type": "display_data"
    },
    {
     "data": {
      "text/plain": [
       "<Figure size 432x288 with 0 Axes>"
      ]
     },
     "metadata": {
      "tags": []
     },
     "output_type": "display_data"
    }
   ],
   "source": [
    "plt.plot(range(len(train_loss)), train_accuracy, 'b', label='Training Accuracy')\n",
    "plt.plot(range(len(train_loss)), test_accuracy, 'r', label='Test Accuracy')\n",
    "plt.title('Training and Test Accuracy')\n",
    "plt.xlabel('Epochs ',fontsize=16)\n",
    "plt.ylabel('Accuracy',fontsize=16)\n",
    "plt.legend()\n",
    "plt.figure()\n",
    "plt.show()"
   ]
  },
  {
   "cell_type": "markdown",
   "metadata": {
    "colab_type": "text",
    "id": "vEDz0wKBgGIK"
   },
   "source": [
    "Q3 Do you think dropout can help the model ?\n",
    "\n",
    "Adding a dropout layer will help reduce the overfitting and test accuracy will be improved\n",
    "\n"
   ]
  },
  {
   "cell_type": "code",
   "execution_count": 48,
   "metadata": {
    "colab": {},
    "colab_type": "code",
    "id": "Gi3wqUoeKp5z"
   },
   "outputs": [],
   "source": [
    "import pandas as pd \n",
    "import numpy as np\n",
    "import os\n",
    "#  Step 3 Text mining using CNN\n",
    "filepath_dict = {'yelp': 'C:/Users/arroj/Downloads/sentiment labelled sentences/yelp_labelled.txt',\n",
    " 'amazon': 'C:/Users/arroj/Downloads/sentiment labelled sentences/amazon_cells_labelled.txt',\n",
    " 'imdb': 'C:/Users/arroj/Downloads/sentiment labelled sentences/imdb_labelled.txt'}"
   ]
  },
  {
   "cell_type": "code",
   "execution_count": 49,
   "metadata": {},
   "outputs": [
    {
     "name": "stdout",
     "output_type": "stream",
     "text": [
      "sentence    Wow... Loved this place.\n",
      "label                              1\n",
      "source                          yelp\n",
      "Name: 0, dtype: object\n"
     ]
    }
   ],
   "source": [
    "df_list= []\n",
    "for source, filepath in filepath_dict.items():\n",
    "    df= pd.read_csv(filepath, names=['sentence', 'label'], sep='\\t')\n",
    "    df['source']= source # Add another column filled with the source name\n",
    "    df_list.append(df)\n",
    "\n",
    "df= pd.concat(df_list)\n",
    "print(df.iloc[0])"
   ]
  },
  {
   "cell_type": "code",
   "execution_count": 50,
   "metadata": {},
   "outputs": [],
   "source": [
    "sentences = ['John likes ice cream', 'John hates chocolate.']"
   ]
  },
  {
   "cell_type": "code",
   "execution_count": 51,
   "metadata": {},
   "outputs": [
    {
     "data": {
      "text/plain": [
       "{'John': 0, 'likes': 5, 'ice': 4, 'cream': 2, 'hates': 3, 'chocolate': 1}"
      ]
     },
     "execution_count": 51,
     "metadata": {},
     "output_type": "execute_result"
    }
   ],
   "source": [
    "from sklearn.feature_extraction.text import CountVectorizer \n",
    " \n",
    "vectorizer = CountVectorizer(min_df=0, lowercase=False) \n",
    "vectorizer.fit(sentences) \n",
    "vectorizer.vocabulary_ "
   ]
  },
  {
   "cell_type": "code",
   "execution_count": 52,
   "metadata": {},
   "outputs": [
    {
     "data": {
      "text/plain": [
       "array([[1, 0, 1, 0, 1, 1],\n",
       "       [1, 1, 0, 1, 0, 0]], dtype=int64)"
      ]
     },
     "execution_count": 52,
     "metadata": {},
     "output_type": "execute_result"
    }
   ],
   "source": [
    "vectorizer.transform(sentences).toarray()"
   ]
  },
  {
   "cell_type": "code",
   "execution_count": 53,
   "metadata": {},
   "outputs": [],
   "source": [
    "from sklearn.model_selection import train_test_split \n",
    " \n",
    "df_yelp = df[df['source'] == 'yelp'] \n",
    " \n",
    "sentences = df_yelp['sentence'].values \n",
    "y = df_yelp['label'].values \n",
    " \n",
    "sentences_train, sentences_test, y_train, y_test = train_test_split(sentences, y, test_size=0.25, random_state=1000) "
   ]
  },
  {
   "cell_type": "code",
   "execution_count": 54,
   "metadata": {},
   "outputs": [
    {
     "data": {
      "text/plain": [
       "<750x1714 sparse matrix of type '<class 'numpy.int64'>'\n",
       "\twith 7368 stored elements in Compressed Sparse Row format>"
      ]
     },
     "execution_count": 54,
     "metadata": {},
     "output_type": "execute_result"
    }
   ],
   "source": [
    "from sklearn.feature_extraction.text import CountVectorizer \n",
    " \n",
    "vectorizer = CountVectorizer()\n",
    "vectorizer.fit(sentences_train) \n",
    " \n",
    "X_train = vectorizer.transform(sentences_train)\n",
    "X_test  = vectorizer.transform(sentences_test) \n",
    "X_train "
   ]
  },
  {
   "cell_type": "code",
   "execution_count": 55,
   "metadata": {},
   "outputs": [
    {
     "name": "stdout",
     "output_type": "stream",
     "text": [
      "Accuracy: 0.796\n"
     ]
    },
    {
     "name": "stderr",
     "output_type": "stream",
     "text": [
      "C:\\Users\\arroj\\Anaconda3\\lib\\site-packages\\sklearn\\linear_model\\logistic.py:433: FutureWarning: Default solver will be changed to 'lbfgs' in 0.22. Specify a solver to silence this warning.\n",
      "  FutureWarning)\n"
     ]
    }
   ],
   "source": [
    "from sklearn.linear_model import LogisticRegression \n",
    " \n",
    "classifier = LogisticRegression()\n",
    "\n",
    "classifier.fit(X_train, y_train) \n",
    "\n",
    "score = classifier.score(X_test, y_test) \n",
    " \n",
    "print(\"Accuracy:\", score)"
   ]
  },
  {
   "cell_type": "code",
   "execution_count": 56,
   "metadata": {},
   "outputs": [
    {
     "name": "stdout",
     "output_type": "stream",
     "text": [
      "Train on 750 samples, validate on 250 samples\n",
      "Epoch 1/100\n",
      "750/750 [==============================] - 2s 3ms/step - loss: 0.6956 - acc: 0.4973 - val_loss: 0.6813 - val_acc: 0.5480\n",
      "Epoch 2/100\n",
      "750/750 [==============================] - 1s 829us/step - loss: 0.6592 - acc: 0.7000 - val_loss: 0.6679 - val_acc: 0.6560\n",
      "Epoch 3/100\n",
      "750/750 [==============================] - 1s 1ms/step - loss: 0.6310 - acc: 0.8533 - val_loss: 0.6555 - val_acc: 0.7200\n",
      "Epoch 4/100\n",
      "750/750 [==============================] - 1s 887us/step - loss: 0.6028 - acc: 0.8840 - val_loss: 0.6416 - val_acc: 0.7240\n",
      "Epoch 5/100\n",
      "750/750 [==============================] - 1s 832us/step - loss: 0.5743 - acc: 0.8960 - val_loss: 0.6280 - val_acc: 0.7360\n",
      "Epoch 6/100\n",
      "750/750 [==============================] - 1s 968us/step - loss: 0.5451 - acc: 0.9120 - val_loss: 0.6145 - val_acc: 0.7480\n",
      "Epoch 7/100\n",
      "750/750 [==============================] - 1s 913us/step - loss: 0.5149 - acc: 0.9187 - val_loss: 0.5998 - val_acc: 0.7520\n",
      "Epoch 8/100\n",
      "750/750 [==============================] - 1s 916us/step - loss: 0.4846 - acc: 0.9240 - val_loss: 0.5857 - val_acc: 0.7560\n",
      "Epoch 9/100\n",
      "750/750 [==============================] - 1s 883us/step - loss: 0.4547 - acc: 0.9333 - val_loss: 0.5713 - val_acc: 0.7520\n",
      "Epoch 10/100\n",
      "750/750 [==============================] - 1s 1ms/step - loss: 0.4250 - acc: 0.9427 - val_loss: 0.5575 - val_acc: 0.7520\n",
      "Epoch 11/100\n",
      "750/750 [==============================] - 1s 1ms/step - loss: 0.3964 - acc: 0.9453 - val_loss: 0.5444 - val_acc: 0.7560\n",
      "Epoch 12/100\n",
      "750/750 [==============================] - 1s 795us/step - loss: 0.3690 - acc: 0.9520 - val_loss: 0.5321 - val_acc: 0.7560\n",
      "Epoch 13/100\n",
      "750/750 [==============================] - 1s 1ms/step - loss: 0.3429 - acc: 0.9520 - val_loss: 0.5209 - val_acc: 0.7640\n",
      "Epoch 14/100\n",
      "750/750 [==============================] - 1s 777us/step - loss: 0.3185 - acc: 0.9533 - val_loss: 0.5097 - val_acc: 0.7680\n",
      "Epoch 15/100\n",
      "750/750 [==============================] - 1s 725us/step - loss: 0.2956 - acc: 0.9653 - val_loss: 0.4993 - val_acc: 0.7640\n",
      "Epoch 16/100\n",
      "750/750 [==============================] - 1s 711us/step - loss: 0.2744 - acc: 0.9667 - val_loss: 0.4902 - val_acc: 0.7640\n",
      "Epoch 17/100\n",
      "750/750 [==============================] - 1s 705us/step - loss: 0.2547 - acc: 0.9693 - val_loss: 0.4833 - val_acc: 0.7720\n",
      "Epoch 18/100\n",
      "750/750 [==============================] - 1s 1ms/step - loss: 0.2365 - acc: 0.9747 - val_loss: 0.4749 - val_acc: 0.7760\n",
      "Epoch 19/100\n",
      "750/750 [==============================] - 1s 1ms/step - loss: 0.2198 - acc: 0.9747 - val_loss: 0.4673 - val_acc: 0.7760\n",
      "Epoch 20/100\n",
      "750/750 [==============================] - 1s 1ms/step - loss: 0.2047 - acc: 0.9800 - val_loss: 0.4611 - val_acc: 0.7720\n",
      "Epoch 21/100\n",
      "750/750 [==============================] - 1s 992us/step - loss: 0.1905 - acc: 0.9813 - val_loss: 0.4552 - val_acc: 0.7760\n",
      "Epoch 22/100\n",
      "750/750 [==============================] - 1s 1ms/step - loss: 0.1776 - acc: 0.9827 - val_loss: 0.4514 - val_acc: 0.7760\n",
      "Epoch 23/100\n",
      "750/750 [==============================] - 1s 789us/step - loss: 0.1655 - acc: 0.9853 - val_loss: 0.4465 - val_acc: 0.7760\n",
      "Epoch 24/100\n",
      "750/750 [==============================] - 0s 632us/step - loss: 0.1548 - acc: 0.9867 - val_loss: 0.4432 - val_acc: 0.7880\n",
      "Epoch 25/100\n",
      "750/750 [==============================] - 1s 1ms/step - loss: 0.1449 - acc: 0.9867 - val_loss: 0.4400 - val_acc: 0.7880\n",
      "Epoch 26/100\n",
      "750/750 [==============================] - 1s 774us/step - loss: 0.1352 - acc: 0.9867 - val_loss: 0.4371 - val_acc: 0.7920\n",
      "Epoch 27/100\n",
      "750/750 [==============================] - 0s 665us/step - loss: 0.1268 - acc: 0.9907 - val_loss: 0.4349 - val_acc: 0.7920\n",
      "Epoch 28/100\n",
      "750/750 [==============================] - 0s 666us/step - loss: 0.1189 - acc: 0.9920 - val_loss: 0.4314 - val_acc: 0.8000\n",
      "Epoch 29/100\n",
      "750/750 [==============================] - 1s 1ms/step - loss: 0.1116 - acc: 0.9920 - val_loss: 0.4300 - val_acc: 0.8040\n",
      "Epoch 30/100\n",
      "750/750 [==============================] - 1s 855us/step - loss: 0.1049 - acc: 0.9920 - val_loss: 0.4278 - val_acc: 0.8000\n",
      "Epoch 31/100\n",
      "750/750 [==============================] - 1s 929us/step - loss: 0.0988 - acc: 0.9933 - val_loss: 0.4271 - val_acc: 0.8000\n",
      "Epoch 32/100\n",
      "750/750 [==============================] - 1s 833us/step - loss: 0.0929 - acc: 0.9933 - val_loss: 0.4267 - val_acc: 0.8040\n",
      "Epoch 33/100\n",
      "750/750 [==============================] - 1s 759us/step - loss: 0.0877 - acc: 0.9933 - val_loss: 0.4252 - val_acc: 0.8000\n",
      "Epoch 34/100\n",
      "750/750 [==============================] - 1s 706us/step - loss: 0.0828 - acc: 0.9933 - val_loss: 0.4238 - val_acc: 0.7960\n",
      "Epoch 35/100\n",
      "750/750 [==============================] - 0s 651us/step - loss: 0.0781 - acc: 0.9947 - val_loss: 0.4236 - val_acc: 0.7960\n",
      "Epoch 36/100\n",
      "750/750 [==============================] - 1s 713us/step - loss: 0.0738 - acc: 0.9947 - val_loss: 0.4234 - val_acc: 0.8000\n",
      "Epoch 37/100\n",
      "750/750 [==============================] - 0s 635us/step - loss: 0.0699 - acc: 0.9947 - val_loss: 0.4232 - val_acc: 0.7960\n",
      "Epoch 38/100\n",
      "750/750 [==============================] - 1s 722us/step - loss: 0.0660 - acc: 0.9960 - val_loss: 0.4237 - val_acc: 0.8000\n",
      "Epoch 39/100\n",
      "750/750 [==============================] - 0s 652us/step - loss: 0.0626 - acc: 0.9960 - val_loss: 0.4232 - val_acc: 0.7960\n",
      "Epoch 40/100\n",
      "750/750 [==============================] - 1s 776us/step - loss: 0.0594 - acc: 0.9960 - val_loss: 0.4237 - val_acc: 0.7960\n",
      "Epoch 41/100\n",
      "750/750 [==============================] - 1s 838us/step - loss: 0.0563 - acc: 0.9973 - val_loss: 0.4245 - val_acc: 0.8000\n",
      "Epoch 42/100\n",
      "750/750 [==============================] - 1s 996us/step - loss: 0.0535 - acc: 0.9973 - val_loss: 0.4246 - val_acc: 0.8000\n",
      "Epoch 43/100\n",
      "750/750 [==============================] - 1s 846us/step - loss: 0.0507 - acc: 0.9973 - val_loss: 0.4258 - val_acc: 0.8000\n",
      "Epoch 44/100\n",
      "750/750 [==============================] - 1s 963us/step - loss: 0.0482 - acc: 0.9973 - val_loss: 0.4271 - val_acc: 0.8000\n",
      "Epoch 45/100\n",
      "750/750 [==============================] - 1s 1ms/step - loss: 0.0459 - acc: 0.9973 - val_loss: 0.4279 - val_acc: 0.8000\n",
      "Epoch 46/100\n",
      "750/750 [==============================] - 1s 1ms/step - loss: 0.0436 - acc: 0.9973 - val_loss: 0.4277 - val_acc: 0.8000\n",
      "Epoch 47/100\n",
      "750/750 [==============================] - 1s 908us/step - loss: 0.0416 - acc: 0.9973 - val_loss: 0.4291 - val_acc: 0.8000\n",
      "Epoch 48/100\n",
      "750/750 [==============================] - 1s 867us/step - loss: 0.0396 - acc: 0.9973 - val_loss: 0.4298 - val_acc: 0.7960\n",
      "Epoch 49/100\n",
      "750/750 [==============================] - 1s 763us/step - loss: 0.0377 - acc: 0.9973 - val_loss: 0.4322 - val_acc: 0.7960\n",
      "Epoch 50/100\n",
      "750/750 [==============================] - 0s 658us/step - loss: 0.0360 - acc: 0.9973 - val_loss: 0.4333 - val_acc: 0.8000\n",
      "Epoch 51/100\n",
      "750/750 [==============================] - 0s 664us/step - loss: 0.0343 - acc: 0.9973 - val_loss: 0.4347 - val_acc: 0.8000\n",
      "Epoch 52/100\n",
      "750/750 [==============================] - 1s 1ms/step - loss: 0.0328 - acc: 0.9973 - val_loss: 0.4359 - val_acc: 0.8000\n",
      "Epoch 53/100\n",
      "750/750 [==============================] - 1s 734us/step - loss: 0.0313 - acc: 0.9987 - val_loss: 0.4377 - val_acc: 0.8000\n",
      "Epoch 54/100\n",
      "750/750 [==============================] - 1s 870us/step - loss: 0.0299 - acc: 0.9973 - val_loss: 0.4400 - val_acc: 0.8040\n",
      "Epoch 55/100\n",
      "750/750 [==============================] - 1s 725us/step - loss: 0.0286 - acc: 0.9987 - val_loss: 0.4404 - val_acc: 0.8040\n",
      "Epoch 56/100\n",
      "750/750 [==============================] - 1s 979us/step - loss: 0.0273 - acc: 0.9987 - val_loss: 0.4427 - val_acc: 0.8040\n",
      "Epoch 57/100\n",
      "750/750 [==============================] - 1s 969us/step - loss: 0.0261 - acc: 0.9987 - val_loss: 0.4449 - val_acc: 0.8040\n",
      "Epoch 58/100\n",
      "750/750 [==============================] - 1s 1ms/step - loss: 0.0249 - acc: 0.9987 - val_loss: 0.4471 - val_acc: 0.8040\n",
      "Epoch 59/100\n",
      "750/750 [==============================] - 1s 787us/step - loss: 0.0239 - acc: 0.9987 - val_loss: 0.4485 - val_acc: 0.8040\n",
      "Epoch 60/100\n",
      "750/750 [==============================] - 1s 793us/step - loss: 0.0228 - acc: 0.9987 - val_loss: 0.4508 - val_acc: 0.8080\n",
      "Epoch 61/100\n",
      "750/750 [==============================] - 1s 711us/step - loss: 0.0219 - acc: 0.9987 - val_loss: 0.4527 - val_acc: 0.8080\n",
      "Epoch 62/100\n",
      "750/750 [==============================] - 1s 710us/step - loss: 0.0209 - acc: 0.9987 - val_loss: 0.4543 - val_acc: 0.8080\n",
      "Epoch 63/100\n",
      "750/750 [==============================] - 1s 801us/step - loss: 0.0200 - acc: 0.9987 - val_loss: 0.4577 - val_acc: 0.8040\n",
      "Epoch 64/100\n",
      "750/750 [==============================] - 1s 695us/step - loss: 0.0192 - acc: 0.9987 - val_loss: 0.4594 - val_acc: 0.8080\n",
      "Epoch 65/100\n",
      "750/750 [==============================] - 1s 776us/step - loss: 0.0184 - acc: 0.9987 - val_loss: 0.4619 - val_acc: 0.8080\n",
      "Epoch 66/100\n",
      "750/750 [==============================] - 1s 858us/step - loss: 0.0176 - acc: 0.9987 - val_loss: 0.4635 - val_acc: 0.8040\n",
      "Epoch 67/100\n",
      "750/750 [==============================] - 1s 852us/step - loss: 0.0169 - acc: 1.0000 - val_loss: 0.4660 - val_acc: 0.8080\n",
      "Epoch 68/100\n",
      "750/750 [==============================] - 1s 722us/step - loss: 0.0162 - acc: 1.0000 - val_loss: 0.4680 - val_acc: 0.8080\n",
      "Epoch 69/100\n",
      "750/750 [==============================] - 1s 1000us/step - loss: 0.0156 - acc: 1.0000 - val_loss: 0.4707 - val_acc: 0.8080\n",
      "Epoch 70/100\n",
      "750/750 [==============================] - 1s 741us/step - loss: 0.0149 - acc: 1.0000 - val_loss: 0.4733 - val_acc: 0.8040\n",
      "Epoch 71/100\n",
      "750/750 [==============================] - 1s 808us/step - loss: 0.0144 - acc: 1.0000 - val_loss: 0.4765 - val_acc: 0.8040\n",
      "Epoch 72/100\n",
      "750/750 [==============================] - 1s 720us/step - loss: 0.0138 - acc: 1.0000 - val_loss: 0.4793 - val_acc: 0.8040\n",
      "Epoch 73/100\n",
      "750/750 [==============================] - 1s 702us/step - loss: 0.0133 - acc: 1.0000 - val_loss: 0.4812 - val_acc: 0.8040\n",
      "Epoch 74/100\n",
      "750/750 [==============================] - 0s 636us/step - loss: 0.0127 - acc: 1.0000 - val_loss: 0.4840 - val_acc: 0.8040\n",
      "Epoch 75/100\n",
      "750/750 [==============================] - 1s 901us/step - loss: 0.0122 - acc: 1.0000 - val_loss: 0.4861 - val_acc: 0.8040\n",
      "Epoch 76/100\n",
      "750/750 [==============================] - 1s 918us/step - loss: 0.0117 - acc: 1.0000 - val_loss: 0.4895 - val_acc: 0.8040\n",
      "Epoch 77/100\n",
      "750/750 [==============================] - 1s 845us/step - loss: 0.0113 - acc: 1.0000 - val_loss: 0.4926 - val_acc: 0.8000\n",
      "Epoch 78/100\n",
      "750/750 [==============================] - 1s 763us/step - loss: 0.0109 - acc: 1.0000 - val_loss: 0.4939 - val_acc: 0.8080\n",
      "Epoch 79/100\n",
      "750/750 [==============================] - 0s 654us/step - loss: 0.0104 - acc: 1.0000 - val_loss: 0.4980 - val_acc: 0.8000\n",
      "Epoch 80/100\n",
      "750/750 [==============================] - 1s 690us/step - loss: 0.0100 - acc: 1.0000 - val_loss: 0.4994 - val_acc: 0.8040\n",
      "Epoch 81/100\n",
      "750/750 [==============================] - 1s 707us/step - loss: 0.0096 - acc: 1.0000 - val_loss: 0.5029 - val_acc: 0.8040\n",
      "Epoch 82/100\n",
      "750/750 [==============================] - ETA: 0s - loss: 0.0090 - acc: 1.000 - 1s 701us/step - loss: 0.0092 - acc: 1.0000 - val_loss: 0.5051 - val_acc: 0.8040\n",
      "Epoch 83/100\n",
      "750/750 [==============================] - 1s 696us/step - loss: 0.0089 - acc: 1.0000 - val_loss: 0.5072 - val_acc: 0.8000\n",
      "Epoch 84/100\n",
      "750/750 [==============================] - 0s 638us/step - loss: 0.0085 - acc: 1.0000 - val_loss: 0.5116 - val_acc: 0.8000\n",
      "Epoch 85/100\n",
      "750/750 [==============================] - 1s 842us/step - loss: 0.0082 - acc: 1.0000 - val_loss: 0.5153 - val_acc: 0.8000\n",
      "Epoch 86/100\n",
      "750/750 [==============================] - 1s 1ms/step - loss: 0.0079 - acc: 1.0000 - val_loss: 0.5177 - val_acc: 0.7960\n",
      "Epoch 87/100\n",
      "750/750 [==============================] - 1s 842us/step - loss: 0.0076 - acc: 1.0000 - val_loss: 0.5207 - val_acc: 0.8040\n",
      "Epoch 88/100\n",
      "750/750 [==============================] - 1s 1ms/step - loss: 0.0073 - acc: 1.0000 - val_loss: 0.5244 - val_acc: 0.8000\n",
      "Epoch 89/100\n",
      "750/750 [==============================] - 1s 714us/step - loss: 0.0071 - acc: 1.0000 - val_loss: 0.5271 - val_acc: 0.8000\n",
      "Epoch 90/100\n",
      "750/750 [==============================] - 1s 811us/step - loss: 0.0068 - acc: 1.0000 - val_loss: 0.5298 - val_acc: 0.8000\n",
      "Epoch 91/100\n",
      "750/750 [==============================] - 1s 737us/step - loss: 0.0065 - acc: 1.0000 - val_loss: 0.5334 - val_acc: 0.8000\n",
      "Epoch 92/100\n",
      "750/750 [==============================] - 1s 738us/step - loss: 0.0063 - acc: 1.0000 - val_loss: 0.5356 - val_acc: 0.8000\n",
      "Epoch 93/100\n",
      "750/750 [==============================] - 1s 752us/step - loss: 0.0060 - acc: 1.0000 - val_loss: 0.5391 - val_acc: 0.8000\n",
      "Epoch 94/100\n",
      "750/750 [==============================] - 1s 719us/step - loss: 0.0058 - acc: 1.0000 - val_loss: 0.5429 - val_acc: 0.8000\n",
      "Epoch 95/100\n",
      "750/750 [==============================] - 1s 816us/step - loss: 0.0056 - acc: 1.0000 - val_loss: 0.5465 - val_acc: 0.8000\n",
      "Epoch 96/100\n",
      "750/750 [==============================] - ETA: 0s - loss: 0.0057 - acc: 1.000 - 1s 1ms/step - loss: 0.0054 - acc: 1.0000 - val_loss: 0.5502 - val_acc: 0.8000\n",
      "Epoch 97/100\n",
      "750/750 [==============================] - 1s 1ms/step - loss: 0.0052 - acc: 1.0000 - val_loss: 0.5533 - val_acc: 0.8000\n",
      "Epoch 98/100\n",
      "750/750 [==============================] - 1s 818us/step - loss: 0.0050 - acc: 1.0000 - val_loss: 0.5569 - val_acc: 0.8000\n",
      "Epoch 99/100\n",
      "750/750 [==============================] - 1s 938us/step - loss: 0.0048 - acc: 1.0000 - val_loss: 0.5609 - val_acc: 0.8000\n",
      "Epoch 100/100\n",
      "750/750 [==============================] - 1s 762us/step - loss: 0.0046 - acc: 1.0000 - val_loss: 0.5634 - val_acc: 0.8000\n",
      "Training Accuracy: 1.0000\n",
      "Testing Accuracy:  0.8000\n"
     ]
    }
   ],
   "source": [
    "# Implementing normal DNN\n",
    "\n",
    "from keras.models import Sequential \n",
    "from keras import layers \n",
    "\n",
    "input_dim = X_train.shape[1]  # Number of features \n",
    " \n",
    " \n",
    "model = Sequential()\n",
    "model.add(layers.Dense(10, input_dim=input_dim, activation='sigmoid')) # changed from relu to softmax \n",
    "model.add(layers.Dense(1, activation='sigmoid')) \n",
    " \n",
    "model.compile(loss='binary_crossentropy', optimizer='adam',\n",
    "              metrics=['accuracy']) \n",
    " \n",
    "history = model.fit(X_train, y_train, epochs=100, validation_data=(X_test, y_test), batch_size=10)\n",
    "loss, accuracy = model.evaluate(X_train, y_train, verbose=False)\n",
    "print(\"Training Accuracy: {:.4f}\".format(accuracy)) \n",
    "loss, accuracy = model.evaluate(X_test, y_test, verbose=False)\n",
    "print(\"Testing Accuracy:  {:.4f}\".format(accuracy))"
   ]
  },
  {
   "cell_type": "code",
   "execution_count": 57,
   "metadata": {},
   "outputs": [],
   "source": [
    "import matplotlib.pyplot as plt \n",
    "plt.style.use('ggplot') \n",
    " \n",
    "def plot_history(history):     \n",
    "    acc = history.history['acc']     \n",
    "    val_acc = history.history['val_acc']     \n",
    "    loss = history.history['loss']     \n",
    "    val_loss = history.history['val_loss']     \n",
    "    x = range(1, len(acc) + 1) \n",
    " \n",
    "    plt.figure(figsize=(12, 5))     \n",
    "    plt.subplot(1, 2, 1)     \n",
    "    plt.plot(x, acc, 'b', label='Training acc')     \n",
    "    plt.plot(x, val_acc, 'r', label='Validation acc')     \n",
    "    plt.title('Training and validation accuracy')     \n",
    "    plt.legend()     \n",
    "    plt.subplot(1, 2, 2)     \n",
    "    plt.plot(x, loss, 'b', label='Training loss')     \n",
    "    plt.plot(x, val_loss, 'r', label='Validation loss')     \n",
    "    plt.title('Training and validation loss')     \n",
    "    plt.legend()     \n",
    "    plt.show() "
   ]
  },
  {
   "cell_type": "code",
   "execution_count": 58,
   "metadata": {},
   "outputs": [
    {
     "data": {
      "image/png": "[encoded data removed]",
      "text/plain": [
       "<Figure size 864x360 with 2 Axes>"
      ]
     },
     "metadata": {},
     "output_type": "display_data"
    }
   ],
   "source": [
    "plot_history(history)"
   ]
  },
  {
   "cell_type": "markdown",
   "metadata": {},
   "source": [
    "Explain these graphs. If you see any issue, suggest a solution to resolve it\n",
    "\n",
    "Instead of relu function for first layer we can use sigmoid function , this will increase the accuracy by approx. 1.2 %\n",
    "from 78.8% to 79.6% and validation loss function little smoother than the earlier one from relu function.\n",
    "with the use of softmax function we can reduce error."
   ]
  },
  {
   "cell_type": "code",
   "execution_count": 59,
   "metadata": {},
   "outputs": [
    {
     "name": "stdout",
     "output_type": "stream",
     "text": [
      "Of all the dishes, the salmon was the best, but all were great.\n",
      "[11, 43, 1, 171, 1, 283, 3, 1, 47, 26, 43, 24, 22]\n"
     ]
    }
   ],
   "source": [
    "from keras.preprocessing.text import Tokenizer \n",
    " \n",
    "tokenizer = Tokenizer(num_words=10000) \n",
    "tokenizer.fit_on_texts(sentences_train) \n",
    " \n",
    "X_train = tokenizer.texts_to_sequences(sentences_train) \n",
    "X_test = tokenizer.texts_to_sequences(sentences_test) \n",
    "  \n",
    "vocab_size = len(tokenizer.word_index) + 1  # Adding 1 because of reserved 0 index \n",
    " \n",
    "print(sentences_train[2])\n",
    "print(X_train[2])"
   ]
  },
  {
   "cell_type": "code",
   "execution_count": 60,
   "metadata": {},
   "outputs": [
    {
     "name": "stdout",
     "output_type": "stream",
     "text": [
      "the: 1\n",
      "all: 43\n",
      "happy: 320\n",
      "sad: 450\n"
     ]
    }
   ],
   "source": [
    "for word in ['the', 'all', 'happy', 'sad']:     \n",
    "    print('{}: {}'.format(word, tokenizer.word_index[word]))"
   ]
  },
  {
   "cell_type": "code",
   "execution_count": 61,
   "metadata": {},
   "outputs": [
    {
     "name": "stdout",
     "output_type": "stream",
     "text": [
      "[  1  10   3 282 739  25   8 208  30  64 459 230  13   1 124   5 231   8\n",
      "  58   5  67   0   0   0   0   0   0   0   0   0   0   0   0   0   0   0\n",
      "   0   0   0   0   0   0   0   0   0   0   0   0   0   0   0   0   0   0\n",
      "   0   0   0   0   0   0   0   0   0   0   0   0   0   0   0   0   0   0\n",
      "   0   0   0   0   0   0   0   0   0   0   0   0   0   0   0   0   0   0\n",
      "   0   0   0   0   0   0   0   0   0   0]\n"
     ]
    }
   ],
   "source": [
    "from keras.preprocessing.sequence import pad_sequences \n",
    " \n",
    "maxlen = 100 \n",
    " \n",
    "# Pad variables with zeros  \n",
    "X_train = pad_sequences(X_train, padding='post', maxlen=maxlen) \n",
    "X_test = pad_sequences(X_test, padding='post', maxlen=maxlen) \n",
    "print(X_train[0, :]) \n",
    " "
   ]
  },
  {
   "cell_type": "code",
   "execution_count": 62,
   "metadata": {},
   "outputs": [
    {
     "name": "stdout",
     "output_type": "stream",
     "text": [
      "_________________________________________________________________\n",
      "Layer (type)                 Output Shape              Param #   \n",
      "=================================================================\n",
      "embedding_11 (Embedding)     (None, 100, 50)           87350     \n",
      "_________________________________________________________________\n",
      "global_max_pooling1d_11 (Glo (None, 50)                0         \n",
      "_________________________________________________________________\n",
      "dense_21 (Dense)             (None, 10)                510       \n",
      "_________________________________________________________________\n",
      "dense_22 (Dense)             (None, 1)                 11        \n",
      "=================================================================\n",
      "Total params: 87,871\n",
      "Trainable params: 87,871\n",
      "Non-trainable params: 0\n",
      "_________________________________________________________________\n"
     ]
    }
   ],
   "source": [
    "from keras.models import Sequential \n",
    "from keras import layers \n",
    " \n",
    "embedding_dim = 50 \n",
    " \n",
    "model = Sequential() \n",
    "model.add(layers.Embedding(input_dim=vocab_size,                             \n",
    "                           output_dim=embedding_dim,                            \n",
    "                           input_length=maxlen)) \n",
    "model.add(layers.GlobalMaxPool1D()) \n",
    "model.add(layers.Dense(10, activation='relu')) \n",
    "model.add(layers.Dense(1, activation='sigmoid')) \n",
    "model.compile(optimizer='adam', loss='binary_crossentropy', metrics=['accuracy']) \n",
    "model.summary()"
   ]
  },
  {
   "cell_type": "code",
   "execution_count": 63,
   "metadata": {},
   "outputs": [
    {
     "name": "stdout",
     "output_type": "stream",
     "text": [
      "Training Accuracy: 1.0000\n",
      "Testing Accuracy:  0.8200\n"
     ]
    },
    {
     "data": {
      "image/png": "[encoded data removed]",
      "text/plain": [
       "<Figure size 864x360 with 2 Axes>"
      ]
     },
     "metadata": {},
     "output_type": "display_data"
    }
   ],
   "source": [
    "history = model.fit(X_train, y_train,                     \n",
    "                    epochs=50,                     \n",
    "                    verbose=False,                     \n",
    "                    validation_data=(X_test, y_test),                    \n",
    "                    batch_size=10) \n",
    "loss, accuracy = model.evaluate(X_train, y_train, verbose=False)\n",
    "print(\"Training Accuracy: {:.4f}\".format(accuracy)) \n",
    "loss, accuracy = model.evaluate(X_test, y_test, verbose=False) \n",
    "print(\"Testing Accuracy:  {:.4f}\".format(accuracy)) \n",
    "plot_history(history) "
   ]
  },
  {
   "cell_type": "markdown",
   "metadata": {},
   "source": [
    "#interpretaion of results and  recommendation to improve the accuracy\n",
    "\n",
    " Left graph show accuracy of model and right graph show loss of the model at certain epochs. \n",
    " For sample of 5000 embedded word test accuracy is 82% , First accuracy increases to around 85% till 15 epochs\n",
    "and decreases to 82% for epochs at 50,it shows that addition of more epochs after 15 does not affect the accuracy \n",
    "of the model.Here loss function binary cross entropy increases unproportionally compared to the small drop in accuracy\n",
    ", which shows that model can be overfitting.We can overcome from overfitting by \n",
    "\n",
    "\n",
    "Increasing the sample of words to be tokenize : increases test accuracy by 1.3%\n",
    "\n",
    "Reducing the network's capacity\n",
    "\n",
    "Applying regularization\n",
    " \n",
    "using dropout layers\n"
   ]
  },
  {
   "cell_type": "code",
   "execution_count": 64,
   "metadata": {},
   "outputs": [
    {
     "name": "stdout",
     "output_type": "stream",
     "text": [
      "_________________________________________________________________\n",
      "Layer (type)                 Output Shape              Param #   \n",
      "=================================================================\n",
      "embedding_12 (Embedding)     (None, 100, 50)           87350     \n",
      "_________________________________________________________________\n",
      "global_max_pooling1d_12 (Glo (None, 50)                0         \n",
      "_________________________________________________________________\n",
      "dense_23 (Dense)             (None, 5)                 255       \n",
      "_________________________________________________________________\n",
      "dense_24 (Dense)             (None, 1)                 6         \n",
      "=================================================================\n",
      "Total params: 87,611\n",
      "Trainable params: 87,611\n",
      "Non-trainable params: 0\n",
      "_________________________________________________________________\n"
     ]
    }
   ],
   "source": [
    "#Reducing the network's capacity\n",
    "\n",
    "from keras.models import Sequential \n",
    "from keras import layers \n",
    " \n",
    "embedding_dim = 50 \n",
    " \n",
    "model = Sequential() \n",
    "model.add(layers.Embedding(input_dim=vocab_size,                             \n",
    "                           output_dim=embedding_dim,                            \n",
    "                           input_length=maxlen)) \n",
    "model.add(layers.GlobalMaxPool1D()) \n",
    "model.add(layers.Dense(5, activation='relu')) \n",
    "model.add(layers.Dense(1, activation='sigmoid')) \n",
    "model.compile(optimizer='adam', loss='binary_crossentropy', metrics=['accuracy']) \n",
    "model.summary()"
   ]
  },
  {
   "cell_type": "code",
   "execution_count": 65,
   "metadata": {},
   "outputs": [
    {
     "name": "stdout",
     "output_type": "stream",
     "text": [
      "Training Accuracy: 1.0000\n",
      "Testing Accuracy:  0.8280\n"
     ]
    },
    {
     "data": {
      "image/png": "[encoded data removed]",
      "text/plain": [
       "<Figure size 864x360 with 2 Axes>"
      ]
     },
     "metadata": {},
     "output_type": "display_data"
    }
   ],
   "source": [
    "history = model.fit(X_train, y_train,                     \n",
    "                    epochs=50,                     \n",
    "                    verbose=False,                     \n",
    "                    validation_data=(X_test, y_test),                    \n",
    "                    batch_size=10) \n",
    "loss, accuracy = model.evaluate(X_train, y_train, verbose=False)\n",
    "print(\"Training Accuracy: {:.4f}\".format(accuracy)) \n",
    "loss, accuracy = model.evaluate(X_test, y_test, verbose=False) \n",
    "print(\"Testing Accuracy:  {:.4f}\".format(accuracy)) \n",
    "plot_history(history) "
   ]
  },
  {
   "cell_type": "code",
   "execution_count": 74,
   "metadata": {},
   "outputs": [
    {
     "name": "stdout",
     "output_type": "stream",
     "text": [
      "_________________________________________________________________\n",
      "Layer (type)                 Output Shape              Param #   \n",
      "=================================================================\n",
      "embedding_20 (Embedding)     (None, 100, 50)           87350     \n",
      "_________________________________________________________________\n",
      "global_max_pooling1d_20 (Glo (None, 50)                0         \n",
      "_________________________________________________________________\n",
      "dense_33 (Dense)             (None, 10)                510       \n",
      "_________________________________________________________________\n",
      "dense_34 (Dense)             (None, 1)                 11        \n",
      "=================================================================\n",
      "Total params: 87,871\n",
      "Trainable params: 87,871\n",
      "Non-trainable params: 0\n",
      "_________________________________________________________________\n"
     ]
    }
   ],
   "source": [
    "#Applying regularization\n",
    "import keras\n",
    "import keras.utils\n",
    "from keras import utils as np_utils\n",
    "from keras.models import Sequential \n",
    "from keras import layers \n",
    " \n",
    "embedding_dim = 50 \n",
    " \n",
    "model = Sequential() \n",
    "model.add(layers.Embedding(input_dim=vocab_size,                             \n",
    "                           output_dim=embedding_dim,                            \n",
    "                           input_length=maxlen)) \n",
    "model.add(layers.GlobalMaxPool1D()) \n",
    "model.add(layers.Dense(10, activation='relu'))\n",
    "keras.layers.ActivityRegularization(l1=0.001, l2=0.000)\n",
    "\n",
    "model.add(layers.Dense(1,activation='sigmoid')) \n",
    "keras.layers.ActivityRegularization(l1=0.001, l2=0.00)\n",
    "model.compile(optimizer='adam', loss='binary_crossentropy', metrics=['accuracy']) \n",
    "model.summary()"
   ]
  },
  {
   "cell_type": "code",
   "execution_count": 75,
   "metadata": {},
   "outputs": [
    {
     "name": "stdout",
     "output_type": "stream",
     "text": [
      "Training Accuracy: 1.0000\n",
      "Testing Accuracy:  0.8280\n"
     ]
    },
    {
     "data": {
      "image/png": "[encoded data removed]",
      "text/plain": [
       "<Figure size 864x360 with 2 Axes>"
      ]
     },
     "metadata": {},
     "output_type": "display_data"
    }
   ],
   "source": [
    "history = model.fit(X_train, y_train,                     \n",
    "                    epochs=50,                     \n",
    "                    verbose=False,                     \n",
    "                    validation_data=(X_test, y_test),                    \n",
    "                    batch_size=10) \n",
    "loss, accuracy = model.evaluate(X_train, y_train, verbose=False)\n",
    "print(\"Training Accuracy: {:.4f}\".format(accuracy)) \n",
    "loss, accuracy = model.evaluate(X_test, y_test, verbose=False) \n",
    "print(\"Testing Accuracy:  {:.4f}\".format(accuracy)) \n",
    "plot_history(history) "
   ]
  },
  {
   "cell_type": "code",
   "execution_count": 72,
   "metadata": {},
   "outputs": [
    {
     "name": "stdout",
     "output_type": "stream",
     "text": [
      "_________________________________________________________________\n",
      "Layer (type)                 Output Shape              Param #   \n",
      "=================================================================\n",
      "embedding_19 (Embedding)     (None, 100, 50)           87350     \n",
      "_________________________________________________________________\n",
      "global_max_pooling1d_19 (Glo (None, 50)                0         \n",
      "_________________________________________________________________\n",
      "dense_31 (Dense)             (None, 10)                510       \n",
      "_________________________________________________________________\n",
      "dense_32 (Dense)             (None, 1)                 11        \n",
      "=================================================================\n",
      "Total params: 87,871\n",
      "Trainable params: 87,871\n",
      "Non-trainable params: 0\n",
      "_________________________________________________________________\n"
     ]
    }
   ],
   "source": [
    "#using dropout layers \n",
    "import keras\n",
    "import keras.utils\n",
    "from keras import utils as np_utils\n",
    "from keras.models import Sequential \n",
    "from keras.layers import Dense, Dropout, Activation\n",
    "from keras import layers \n",
    " \n",
    "embedding_dim = 50 \n",
    " \n",
    "model = Sequential() \n",
    "model.add(layers.Embedding(input_dim=vocab_size,                             \n",
    "                           output_dim=embedding_dim,                            \n",
    "                           input_length=maxlen)) \n",
    "model.add(layers.GlobalMaxPool1D()) \n",
    "model.add(layers.Dense(10, activation='relu'))\n",
    "keras.layers.Dropout(0.5)\n",
    "\n",
    "model.add(layers.Dense(1, activation='sigmoid')) \n",
    "model.compile(optimizer='adam', loss='binary_crossentropy', metrics=['accuracy']) \n",
    "model.summary()"
   ]
  },
  {
   "cell_type": "code",
   "execution_count": 73,
   "metadata": {},
   "outputs": [
    {
     "name": "stdout",
     "output_type": "stream",
     "text": [
      "Training Accuracy: 1.0000\n",
      "Testing Accuracy:  0.8080\n"
     ]
    },
    {
     "data": {
      "image/png": "[encoded data removed]",
      "text/plain": [
       "<Figure size 864x360 with 2 Axes>"
      ]
     },
     "metadata": {},
     "output_type": "display_data"
    }
   ],
   "source": [
    "history = model.fit(X_train, y_train,                     \n",
    "                    epochs=50,                     \n",
    "                    verbose=False,                     \n",
    "                    validation_data=(X_test, y_test),                    \n",
    "                    batch_size=10) \n",
    "loss, accuracy = model.evaluate(X_train, y_train, verbose=False)\n",
    "print(\"Training Accuracy: {:.4f}\".format(accuracy)) \n",
    "loss, accuracy = model.evaluate(X_test, y_test, verbose=False) \n",
    "print(\"Testing Accuracy:  {:.4f}\".format(accuracy)) \n",
    "plot_history(history) "
   ]
  }
 ],
 "metadata": {
  "accelerator": "GPU",
  "colab": {
   "name": "lab2.ipynb",
   "provenance": [],
   "version": "0.3.2"
  },
  "kernelspec": {
   "display_name": "Python 3",
   "language": "python",
   "name": "python3"
  },
  "language_info": {
   "codemirror_mode": {
    "name": "ipython",
    "version": 3
   },
   "file_extension": ".py",
   "mimetype": "text/x-python",
   "name": "python",
   "nbconvert_exporter": "python",
   "pygments_lexer": "ipython3",
   "version": "3.6.8"
  }
 },
 "nbformat": 4,
 "nbformat_minor": 1
}
